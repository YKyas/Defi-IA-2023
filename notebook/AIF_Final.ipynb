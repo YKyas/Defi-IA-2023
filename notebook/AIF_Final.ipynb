{
 "cells": [
  {
   "cell_type": "code",
   "execution_count": null,
   "id": "3ad85635",
   "metadata": {
    "id": "3ad85635"
   },
   "outputs": [],
   "source": [
    "import pandas as pd\n",
    "import numpy as np\n",
    "import seaborn as sns\n",
    "import matplotlib.pyplot as plt\n",
    "%matplotlib inline\n",
    "import time\n",
    "import random\n",
    "import os\n",
    "from math import *\n",
    "\n",
    "from sklearn.model_selection import train_test_split\n",
    "from sklearn.metrics import mean_absolute_percentage_error as MAPE\n",
    "from sklearn.metrics import mean_squared_error as MSE\n",
    "from sklearn.metrics import r2_score\n",
    "from sklearn.metrics import mean_absolute_error as MAE\n",
    "from joblib import dump, load"
   ]
  },
  {
   "cell_type": "raw",
   "id": "93e71e3a",
   "metadata": {
    "id": "7f0454b3"
   },
   "source": [
    "#data_path = '../datasets/'\n",
    "df1 = pd.read_csv('pricing_requests_20req_eachdate.csv')\n",
    "df2 = pd.read_csv('pricing_requests_34reqforlistdates.csv')\n",
    "df3 = pd.read_csv('pricing_requests_92req_sofia.csv')\n",
    "df4 = pd.read_csv('pricing_requests_92req_valletta.csv')\n",
    "df5 = pd.read_csv('pricing_requests_100req.csv')\n",
    "df6 = pd.read_csv('pricing_requests_500randomreq.csv')\n",
    "df7 = pd.read_csv('pricing_requests_500randomreq_date1.csv')\n",
    "df8 = pd.read_csv('pricing_requests_cities_3000_3100req.csv')\n",
    "df9 = pd.read_csv('455_pricing_requests_date22_unzipped.csv')\n",
    "df10 = pd.read_csv( 'pricing_requests_500_random.csv')\n",
    "df11 = pd.read_csv( 'pricing_requests_22DATES.csv')\n",
    "df12 = pd.read_csv( 'pricing_requests_500randomreq_date1.csv')\n",
    "df13 = pd.read_csv( 'pricing_requests_5_random.csv')\n",
    "df14 = pd.read_csv( 'pricing_requests_amsterdam40req.csv')\n",
    "df15 = pd.read_csv( 'pricing_requests_dates_avatar0000.csv')\n",
    "df16 = pd.read_csv( 'pricing_requests_dates_avatar0002.csv')\n",
    "df17 = pd.read_csv( 'pricing_requests_languages_102-202req.csv')\n",
    "df18 = pd.read_csv( 'pricing_requests_madrid40req.csv')\n",
    "df19 = pd.read_csv( 'pricing_requests_rando"
   ]
  },
  {
   "cell_type": "code",
   "execution_count": null,
   "id": "eaef10cc",
   "metadata": {},
   "outputs": [],
   "source": [
    "data_path = '../data/'\n",
    "df2 = pd.read_csv(data_path+'pricing_requests_34reqforlistdates.csv')\n",
    "df1 = pd.read_csv(data_path+'pricing_requests_20req_eachdate.csv')\n",
    "df3 = pd.read_csv(data_path+'pricing_requests_92req_sofia.csv')\n",
    "df4 = pd.read_csv(data_path+'pricing_requests_92req_valletta.csv')\n",
    "df5 = pd.read_csv(data_path+'pricing_requests_100req.csv')\n",
    "df6 = pd.read_csv(data_path+'pricing_requests_500randomreq.csv')\n",
    "#df7 = pd.read_csv('pricing_requests_500randomreq_date1.csv')\n",
    "df8 = pd.read_csv(data_path+'pricing_requests_cities_3000_3100req.csv')\n",
    "#df9 = pd.read_csv('455_pricing_requests_date22_unzipped.csv')\n",
    "#df10 = pd.read_csv('pricing_requests_500_random.csv')"
   ]
  },
  {
   "cell_type": "code",
   "execution_count": null,
   "id": "5a8baaf8",
   "metadata": {
    "id": "5a8baaf8"
   },
   "outputs": [],
   "source": [
    "df_complete_january_1 = pd.concat([df1, df2, df3, df4, df5, df6,  df8])#pd.concat([df1, df2, df3, df4, df5, df6, df7, df8, df9, df10,\n",
    "                                 #df11, df12, df13, df14, df15, df16, df17, df18, df19])"
   ]
  },
  {
   "cell_type": "code",
   "execution_count": null,
   "id": "56570114",
   "metadata": {
    "id": "56570114"
   },
   "outputs": [],
   "source": [
    "df_complete_january = df_complete_january_1.drop_duplicates()"
   ]
  },
  {
   "cell_type": "code",
   "execution_count": null,
   "id": "ab66fc6d",
   "metadata": {
    "id": "ab66fc6d"
   },
   "outputs": [],
   "source": [
    "features_hotels = pd.read_csv(data_path+'features_hotels.csv')\n",
    "X_test = pd.read_csv(data_path+'test_set.csv')"
   ]
  },
  {
   "cell_type": "code",
   "execution_count": null,
   "id": "9baf785a",
   "metadata": {
    "id": "9baf785a"
   },
   "outputs": [],
   "source": [
    "#it's the same as in the original column\n",
    "del features_hotels['city']"
   ]
  },
  {
   "cell_type": "code",
   "execution_count": null,
   "id": "221ec7c4",
   "metadata": {
    "id": "221ec7c4"
   },
   "outputs": [],
   "source": [
    "df_complete_features = df_complete_january.join(features_hotels.set_index('hotel_id'), on='hotel_id')"
   ]
  },
  {
   "cell_type": "code",
   "execution_count": null,
   "id": "8546f2f9",
   "metadata": {
    "id": "8546f2f9"
   },
   "outputs": [],
   "source": [
    "X_test_features = X_test.join(features_hotels.set_index('hotel_id'), on='hotel_id')"
   ]
  },
  {
   "cell_type": "code",
   "execution_count": null,
   "id": "1435e4d3",
   "metadata": {
    "id": "1435e4d3",
    "outputId": "a15b4ae0-f963-4e90-917a-ef45f2856456"
   },
   "outputs": [],
   "source": [
    "df_complete_features"
   ]
  },
  {
   "cell_type": "code",
   "execution_count": null,
   "id": "7956b942",
   "metadata": {
    "id": "7956b942",
    "outputId": "de640f97-ebbc-4d8c-c617-5674178d17a9"
   },
   "outputs": [],
   "source": [
    "X_test_features"
   ]
  },
  {
   "cell_type": "code",
   "execution_count": null,
   "id": "83857203",
   "metadata": {
    "id": "83857203"
   },
   "outputs": [],
   "source": [
    "X_test_features = X_test_features.drop(X_test_features.columns[[0,1]], axis=1)\n",
    "del X_test_features['avatar_id']\n",
    "del X_test_features['hotel_id']"
   ]
  },
  {
   "cell_type": "code",
   "execution_count": null,
   "id": "55219fb3",
   "metadata": {
    "id": "55219fb3",
    "outputId": "cd06df5b-3702-40e3-d893-6bfaa893b6e6"
   },
   "outputs": [],
   "source": [
    "X_test_features"
   ]
  },
  {
   "cell_type": "code",
   "execution_count": null,
   "id": "8591d63a",
   "metadata": {
    "id": "8591d63a"
   },
   "outputs": [],
   "source": [
    "df_complete_features = df_complete_features.drop(df_complete_features.columns[[0]], axis=1)\n",
    "del df_complete_features['avatar_id']\n",
    "del df_complete_features['hotel_id']"
   ]
  },
  {
   "cell_type": "code",
   "execution_count": null,
   "id": "3eb3ce85",
   "metadata": {
    "id": "3eb3ce85",
    "outputId": "0a6a9d37-ff5c-4439-95c6-12ba1405d8df"
   },
   "outputs": [],
   "source": [
    "df_complete_features"
   ]
  },
  {
   "cell_type": "code",
   "execution_count": null,
   "id": "0b4e3f7f",
   "metadata": {
    "id": "0b4e3f7f",
    "outputId": "e792f37d-dc01-4ba8-9048-e30d846c3fb7"
   },
   "outputs": [],
   "source": [
    "cities = ['amsterdam', 'copenhagen', 'madrid', 'paris', 'rome', 'sofia', 'valletta', 'vienna', 'vilnius']\n",
    "\n",
    "#calculate the mean prices for each city\n",
    "mean_cities = []\n",
    "for city in cities:\n",
    "  #isolate the city\n",
    "  rslt_df = df_complete_features[df_complete_features['city'] == city]\n",
    "  #rslt_df['city'] =np.mean(rslt_df['price'])\n",
    "  mean_cities.append(np.mean(rslt_df['price']))\n",
    "total = np.array(mean_cities).sum()\n",
    "mean_cities = np.array(mean_cities)/total\n",
    "print(mean_cities)\n",
    "city_mean = dict(zip(cities,mean_cities))"
   ]
  },
  {
   "cell_type": "code",
   "execution_count": null,
   "id": "edded6c1",
   "metadata": {
    "id": "edded6c1",
    "outputId": "6d6a84c0-9c9e-4418-a0ff-a3c9c9a2c7b4"
   },
   "outputs": [],
   "source": [
    "languages = ['austrian', 'belgian', 'bulgarian', 'croatian', 'cypriot', 'czech', 'danish', 'dutch',\n",
    "             'estonian', 'finnish', 'french', 'german', 'greek', 'hungarian', 'irish', 'italian',\n",
    "             'latvian', 'lithuanian', 'luxembourgish', 'maltese', 'polish', 'portuguese', 'romanian',\n",
    "             'slovakian', 'slovene', 'spanish', 'swedish']\n",
    "\n",
    "#calculate the mean prices for each language\n",
    "mean_languages = []\n",
    "for language in languages:\n",
    "    rslt_df = df_complete_features[df_complete_features['language'] == language]\n",
    "    mean_languages.append(np.mean(rslt_df['price']))\n",
    "total = np.array(mean_languages).sum()\n",
    "mean_languages = np.array(mean_languages)/total\n",
    "print(mean_languages)\n",
    "language_mean = dict(zip(languages,mean_languages))"
   ]
  },
  {
   "cell_type": "code",
   "execution_count": null,
   "id": "cc384e81",
   "metadata": {
    "id": "cc384e81",
    "outputId": "cce8d00e-84fe-43e8-813f-d82d4070b548"
   },
   "outputs": [],
   "source": [
    "groups = ['Morriott International','Chillton Worldwide','Independant','Accar Hotels','Yin Yang','Boss Western']\n",
    "\n",
    "#calculate the mean prices for each city\n",
    "mean_groups = []\n",
    "for group in groups:\n",
    "    rslt_df = df_complete_features[df_complete_features['group'] == group]\n",
    "    mean_groups.append(np.mean(rslt_df['price']))\n",
    "total = np.array(mean_groups).sum()\n",
    "mean_groups = np.array(mean_groups)/total\n",
    "print(mean_groups)\n",
    "group_mean = dict(zip(groups,mean_groups))"
   ]
  },
  {
   "cell_type": "code",
   "execution_count": null,
   "id": "446fec12",
   "metadata": {
    "id": "446fec12",
    "outputId": "7d992f1d-edf2-49f7-c9ea-a8ca13783e2d"
   },
   "outputs": [],
   "source": [
    "brands = ['Chill Garden Inn','Morriot','Royal Lotus','Corlton','Independant','Ibas','Navatel','Ardisson',\n",
    "'Marcure','Safitel','Boss Western','J.Halliday Inn','8 Premium','Tripletree','CourtYord','Quadrupletree']\n",
    "\n",
    "#calculate the mean prices for each city\n",
    "mean_brands = []\n",
    "for brand in brands:\n",
    "    rslt_df = df_complete_features[df_complete_features['brand'] == brand]\n",
    "    mean_brands.append(np.mean(rslt_df['price']))\n",
    "total = np.array(mean_brands).sum()\n",
    "mean_brands = np.array(mean_brands)/total\n",
    "print(mean_brands)\n",
    "brand_mean = dict(zip(brands,mean_brands))"
   ]
  },
  {
   "cell_type": "code",
   "execution_count": null,
   "id": "4df47641",
   "metadata": {},
   "outputs": [],
   "source": [
    "print(city_mean)\n",
    "pd.DataFrame([city_mean]).to_csv(\"../processed_data/city_mean.csv\")\n",
    "print(group_mean)\n",
    "pd.DataFrame([group_mean]).to_csv(\"../processed_data/group_mean.csv\")\n",
    "print(brand_mean)\n",
    "pd.DataFrame([brand_mean]).to_csv(\"../processed_data/brand_mean.csv\")\n",
    "print(language_mean)\n",
    "pd.DataFrame([language_mean]).to_csv(\"../processed_data/language_mean.csv\")\n"
   ]
  },
  {
   "cell_type": "code",
   "execution_count": null,
   "id": "4b667edb",
   "metadata": {
    "id": "4b667edb"
   },
   "outputs": [],
   "source": [
    "def target_embedding(df_original):\n",
    "    new_df = df_original.copy()\n",
    "    \n",
    "    #city\n",
    "    dfs = []\n",
    "    for city in cities:\n",
    "        rslt_df = new_df[new_df['city'] == city]\n",
    "        rslt_df['city'] = city_mean[city]\n",
    "        dfs.append(rslt_df)\n",
    "    new_df = pd.concat(dfs)\n",
    "\n",
    "    \n",
    "    #language\n",
    "    dfs = []\n",
    "    for language in languages:\n",
    "        rslt_df = new_df[new_df['language'] == language]\n",
    "        rslt_df['language'] = language_mean[language]\n",
    "        dfs.append(rslt_df)\n",
    "    new_df = pd.concat(dfs)\n",
    "\n",
    "    \n",
    "    #group\n",
    "    dfs = []\n",
    "    for group in groups:\n",
    "        rslt_df = new_df[new_df['group'] == group]\n",
    "        rslt_df['group'] = group_mean[group]\n",
    "        dfs.append(rslt_df)\n",
    "    new_df = pd.concat(dfs)\n",
    "    \n",
    "    \n",
    "    #brand\n",
    "    dfs = []\n",
    "    for brand in brands:\n",
    "        rslt_df = new_df[new_df['brand'] == brand]\n",
    "        rslt_df['brand'] = brand_mean[brand]\n",
    "        dfs.append(rslt_df)\n",
    "    new_df = pd.concat(dfs)\n",
    "    new_df = new_df.sort_index(ascending=True)\n",
    "    \n",
    "    return new_df"
   ]
  },
  {
   "cell_type": "code",
   "execution_count": null,
   "id": "7e6b6922",
   "metadata": {
    "id": "7e6b6922",
    "outputId": "ea15591d-bbce-42f5-c7cd-2f80e9342a60"
   },
   "outputs": [],
   "source": [
    "df_complete_fearures = target_embedding(df_complete_features)\n",
    "X_test_features = target_embedding(X_test_features)"
   ]
  },
  {
   "cell_type": "code",
   "execution_count": null,
   "id": "676cc1e7",
   "metadata": {
    "id": "676cc1e7",
    "outputId": "d9f38421-cb5c-4a1a-ddaf-bb612bbd098b"
   },
   "outputs": [],
   "source": [
    "df_complete_fearures"
   ]
  },
  {
   "cell_type": "code",
   "execution_count": null,
   "id": "bfcaf995",
   "metadata": {
    "id": "bfcaf995"
   },
   "outputs": [],
   "source": [
    "df_complete_fearures.to_csv('../processed_data/entire_df_complete_embed_feature.csv')"
   ]
  },
  {
   "cell_type": "code",
   "execution_count": null,
   "id": "97c568d6",
   "metadata": {
    "id": "97c568d6",
    "outputId": "05362bf2-3c29-44f1-9d38-bf998db1d978"
   },
   "outputs": [],
   "source": [
    "X_test_features"
   ]
  },
  {
   "cell_type": "code",
   "execution_count": null,
   "id": "f6a8dbd0",
   "metadata": {
    "id": "f6a8dbd0"
   },
   "outputs": [],
   "source": [
    "X_test_features.to_csv('../processed_data/entire_df_test_embed2.csv')"
   ]
  },
  {
   "cell_type": "code",
   "execution_count": null,
   "id": "5eac2175",
   "metadata": {
    "id": "5eac2175"
   },
   "outputs": [],
   "source": [
    "X = df_complete_fearures.copy()\n",
    "del X['price']\n",
    "X.to_csv('../processed_data/Train_feature.csv',index=False)\n",
    "y = df_complete_fearures['price']\n",
    "y.to_csv('../processed_data/label_feature.csv',index=False)"
   ]
  },
  {
   "cell_type": "code",
   "execution_count": null,
   "id": "0d38f43f",
   "metadata": {
    "id": "0d38f43f",
    "outputId": "aca29e4a-a5fe-4b90-827f-767e7f0e8333"
   },
   "outputs": [],
   "source": [
    "df_complete_fearures "
   ]
  },
  {
   "cell_type": "code",
   "execution_count": null,
   "id": "c3aa2af6",
   "metadata": {
    "id": "c3aa2af6",
    "outputId": "40d6b4c1-07ac-4086-f9f4-c1c18bb9c44b"
   },
   "outputs": [],
   "source": [
    "'''\n",
    "df_complete_fearures_dup = df_complete_fearures.copy()\n",
    "del df_complete_fearures_dup['price']\n",
    "df_complete_fearures_dup.drop_duplicates()\n",
    "print(len(df_complete_fearures_dup))\n",
    "'''"
   ]
  },
  {
   "cell_type": "code",
   "execution_count": null,
   "id": "32085bed",
   "metadata": {
    "id": "32085bed"
   },
   "outputs": [],
   "source": [
    "X_train, X_val, y_train, y_val = train_test_split(X, y, test_size=0.2, random_state=42)"
   ]
  },
  {
   "cell_type": "code",
   "execution_count": null,
   "id": "7303b743",
   "metadata": {
    "id": "7303b743",
    "outputId": "b7a60996-d2ec-4945-856f-25622c5e1a98"
   },
   "outputs": [],
   "source": [
    "X_train"
   ]
  },
  {
   "cell_type": "code",
   "execution_count": null,
   "id": "00208d63",
   "metadata": {
    "id": "00208d63",
    "outputId": "fcdbb1d3-e3b5-4d92-ad44-8ffe6285b081"
   },
   "outputs": [],
   "source": [
    "'''from xgboost import XGBRegressor\n",
    "\n",
    "XGBregressor = XGBRegressor(learning_rate=0.7,\n",
    "                          subsample = 1,\n",
    "                          max_depth=1000\n",
    "                         )\n",
    "XGBregressor.fit(X_train,y_train)\n",
    "\n",
    "Y_predict_val = XGBregressor.predict(X_val)\n",
    "MSE(y_val, Y_predict_val)'''"
   ]
  },
  {
   "cell_type": "code",
   "execution_count": null,
   "id": "ba6ce4dd",
   "metadata": {
    "id": "ba6ce4dd",
    "outputId": "ebe1cd06-01af-48fa-db8b-7d004653adb6"
   },
   "outputs": [],
   "source": [
    "from xgboost import XGBRegressor\n",
    "regressor2 = XGBRegressor(learning_rate=0.01,  \n",
    "                      colsample_bytree = 1,\n",
    "                      subsample = 1,\n",
    "                      n_estimators=1000, \n",
    "                      reg_alpha = 0.3,\n",
    "                      max_depth=10, \n",
    "                      gamma=0)\n",
    "regressor2.fit(X_train,y_train)"
   ]
  },
  {
   "cell_type": "code",
   "execution_count": null,
   "id": "b22d797f",
   "metadata": {},
   "outputs": [],
   "source": [
    "# evaluate using train test\n",
    "Y_predict_val_train = regressor2.predict(X_train)\n",
    "MSE(y_train, Y_predict_val_train)"
   ]
  },
  {
   "cell_type": "code",
   "execution_count": null,
   "id": "098d7e56",
   "metadata": {
    "id": "098d7e56",
    "outputId": "d8a9b9b1-8d1c-4d39-d9a3-229fae408e79"
   },
   "outputs": [],
   "source": [
    "Y_predict_val = regressor2.predict(X_val)\n",
    "MSE(y_val, Y_predict_val)"
   ]
  },
  {
   "cell_type": "code",
   "execution_count": null,
   "id": "42a12a5f",
   "metadata": {},
   "outputs": [],
   "source": [
    "X_test_features = X_test_features[['stock', 'city', 'date', 'language', 'mobile', 'group', 'brand', 'parking', 'pool', 'children_policy']]"
   ]
  },
  {
   "cell_type": "code",
   "execution_count": null,
   "id": "0d9c8e09",
   "metadata": {
    "id": "0d9c8e09",
    "outputId": "0a47de88-3639-461b-fa2c-0b74150da77b"
   },
   "outputs": [],
   "source": [
    "X_test_features.to_csv('../processed_data/test_features.csv')\n",
    "Y_pred_34 = regressor2.predict(X_test_features)"
   ]
  },
  {
   "cell_type": "code",
   "execution_count": null,
   "id": "aa77b95b",
   "metadata": {
    "id": "aa77b95b"
   },
   "outputs": [],
   "source": [
    "Y_pred_34 = pd.DataFrame(Y_pred_34)\n",
    "Y_pred_34.to_csv(\"../predictions/Y_pred_34.csv\")"
   ]
  },
  {
   "cell_type": "code",
   "execution_count": null,
   "id": "082dfb35",
   "metadata": {},
   "outputs": [],
   "source": [
    "# Export models using joblib \n",
    "\n",
    "dump(regressor2, '../models/regressor_xgb.joblib') "
   ]
  },
  {
   "cell_type": "code",
   "execution_count": null,
   "id": "6f83dd47",
   "metadata": {},
   "outputs": [],
   "source": [
    "import session_info\n",
    "session_info.show(write_req_file=True)"
   ]
  },
  {
   "cell_type": "code",
   "execution_count": null,
   "id": "e483671a",
   "metadata": {},
   "outputs": [],
   "source": [
    "#Building stacking model\n",
    "from sklearn.ensemble import StackingRegressor\n",
    "from sklearn.ensemble import AdaBoostRegressor,RandomForestRegressor,GradientBoostingRegressor\n",
    "from sklearn.ensemble import ExtraTreesRegressor\n",
    "from xgboost import XGBRegressor\n",
    "estimators = [('xg', XGBRegressor()),('rf',RandomForestRegressor(n_estimators=150,random_state=42)),('gbs',GradientBoostingRegressor())]\n",
    "reg = StackingRegressor(estimators=estimators,final_estimator=AdaBoostRegressor())\n",
    "reg.fit(X_train,y_train)"
   ]
  },
  {
   "cell_type": "code",
   "execution_count": null,
   "id": "2c337a90",
   "metadata": {},
   "outputs": [],
   "source": [
    "Y_predict_val_train_stack = reg.predict(X_train)\n",
    "MSE(y_train, Y_predict_val_train_stack)"
   ]
  },
  {
   "cell_type": "code",
   "execution_count": null,
   "id": "f1c32bd8",
   "metadata": {},
   "outputs": [],
   "source": [
    "X_test_features.to_csv('../processed_data/test_features.csv')\n",
    "Y_pred_34_stack = reg.predict(X_test_features)\n",
    "Y_pred_34_stack = pd.DataFrame(Y_pred_34_stack)\n",
    "Y_pred_34_stack.to_csv(\"../predictions/Y_pred_34_stack.csv\")"
   ]
  },
  {
   "cell_type": "code",
   "execution_count": null,
   "id": "6b32b280",
   "metadata": {},
   "outputs": [],
   "source": [
    "dump(reg, '../models/regressor_stacking.joblib') "
   ]
  }
 ],
 "metadata": {
  "colab": {
   "provenance": []
  },
  "kernelspec": {
   "display_name": "Python 3",
   "language": "python",
   "name": "python3"
  },
  "language_info": {
   "codemirror_mode": {
    "name": "ipython",
    "version": 3
   },
   "file_extension": ".py",
   "mimetype": "text/x-python",
   "name": "python",
   "nbconvert_exporter": "python",
   "pygments_lexer": "ipython3",
   "version": "3.9.1"
  },
  "vscode": {
   "interpreter": {
    "hash": "7b7ece82b50691f4906269be5deb2898bed87dcc336c996e30d1edea01e80b8a"
   }
  }
 },
 "nbformat": 4,
 "nbformat_minor": 5
}
