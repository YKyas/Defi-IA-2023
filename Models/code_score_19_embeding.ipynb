{
  "cells": [
    {
      "cell_type": "code",
      "execution_count": 2,
      "metadata": {
        "id": "-MOVAGLMRD6N"
      },
      "outputs": [],
      "source": [
        "import pandas as pd\n",
        "import numpy as np\n",
        "import seaborn as sns\n",
        "import matplotlib.pyplot as plt\n",
        "%matplotlib inline\n",
        "import time\n",
        "import random\n",
        "import os\n",
        "from math import *"
      ]
    },
    {
      "cell_type": "code",
      "execution_count": 3,
      "metadata": {
        "id": "q2IdrWDeRJgb"
      },
      "outputs": [],
      "source": [
        "from sklearn.model_selection import train_test_split\n",
        "from sklearn.metrics import mean_absolute_percentage_error as MAPE\n",
        "from sklearn.metrics import mean_squared_error as MSE\n",
        "from sklearn.metrics import r2_score\n",
        "from sklearn.metrics import mean_absolute_error as MAE"
      ]
    },
    {
      "cell_type": "code",
      "execution_count": null,
      "metadata": {
        "id": "Q7xAdnn4Xayi",
        "outputId": "1beda0c8-3354-49ff-e104-f0da30623591",
        "colab": {
          "base_uri": "https://localhost:8080/"
        }
      },
      "outputs": [
        {
          "output_type": "stream",
          "name": "stdout",
          "text": [
            "Le répertoire courant est : /content\n"
          ]
        }
      ],
      "source": [
        "path = os.getcwd()\n",
        "print(\"Le répertoire courant est : \" + path)"
      ]
    },
    {
      "cell_type": "code",
      "execution_count": 4,
      "metadata": {
        "id": "TcUV37UlXayj"
      },
      "outputs": [],
      "source": [
        "d= pd.read_csv('df_complete_embed.csv')\n",
        "#f= pd.read_csv('f.csv')"
      ]
    },
    {
      "cell_type": "code",
      "execution_count": 6,
      "metadata": {
        "id": "M8FD8WoIXayk"
      },
      "outputs": [],
      "source": [
        "d= d.drop(d.columns[[0]], axis=1)"
      ]
    },
    {
      "cell_type": "code",
      "source": [
        "d= d.drop(d.columns[[0]], axis=1)"
      ],
      "metadata": {
        "id": "XZnypa2eQ3--"
      },
      "execution_count": 8,
      "outputs": []
    },
    {
      "cell_type": "code",
      "source": [
        "prix = d['price']"
      ],
      "metadata": {
        "id": "z8S6YbGSQ7rs"
      },
      "execution_count": 10,
      "outputs": []
    },
    {
      "cell_type": "code",
      "source": [
        "d= d.drop(['price'], axis=1)"
      ],
      "metadata": {
        "id": "-V-q5qHMS7py"
      },
      "execution_count": 33,
      "outputs": []
    },
    {
      "cell_type": "code",
      "source": [
        "test_set= pd.read_csv('df_test_embed.csv')"
      ],
      "metadata": {
        "id": "WqoJrV8k8GX0"
      },
      "execution_count": 41,
      "outputs": []
    },
    {
      "cell_type": "code",
      "source": [
        "test_set= test_set.drop(test_set.columns[[0]], axis=1)\n",
        "#test_set= test_set.drop(test_set.columns[[0]], axis=1)"
      ],
      "metadata": {
        "id": "WHx9l7ooRPe8"
      },
      "execution_count": 42,
      "outputs": []
    },
    {
      "cell_type": "code",
      "source": [
        "X_test = test_set[['hotel_id', 'stock', 'city', 'date', 'language', 'mobile', 'avatar_id', 'group', 'brand', 'parking', 'pool', 'children_policy']]"
      ],
      "metadata": {
        "id": "zf9JbfaKRa_G"
      },
      "execution_count": 43,
      "outputs": []
    },
    {
      "cell_type": "code",
      "execution_count": 28,
      "metadata": {
        "id": "b7_ID7XmXayn"
      },
      "outputs": [],
      "source": [
        "from sklearn import linear_model\n",
        "from sklearn.metrics import mean_squared_error, r2_score, mean_absolute_error,mean_absolute_percentage_error\n",
        "from sklearn.metrics import mean_absolute_error"
      ]
    },
    {
      "cell_type": "code",
      "execution_count": 29,
      "metadata": {
        "id": "kfkd9R1TXayn"
      },
      "outputs": [],
      "source": [
        "#fonction des erreurs\n",
        "def weighted_average(prev,test):\n",
        "    abs = mean_absolute_error(test, prev)\n",
        "    rel = np.mean(np.abs(np.array(test)-np.array(prev))/np.array(test))\n",
        "    return abs, rel\n",
        "def erreur(test,prev): \n",
        "    MSE= round(mean_squared_error(test,prev),2)\n",
        "    MAE= round(mean_absolute_error(test,prev),2)\n",
        "    MAPE= round(weighted_average(prev,test)[1],3) *100\n",
        "    return MSE,MAE,MAPE"
      ]
    },
    {
      "cell_type": "code",
      "execution_count": 35,
      "metadata": {
        "colab": {
          "base_uri": "https://localhost:8080/"
        },
        "id": "2dl4HtVHRNyC",
        "outputId": "e9bc4522-e814-45ab-9d27-4d1ad9fcb9a9"
      },
      "outputs": [
        {
          "output_type": "stream",
          "name": "stdout",
          "text": [
            "[21:03:14] WARNING: /workspace/src/objective/regression_obj.cu:152: reg:linear is now deprecated in favor of reg:squarederror.\n"
          ]
        },
        {
          "output_type": "execute_result",
          "data": {
            "text/plain": [
              "XGBRegressor(learning_rate=0.01, max_depth=10, n_estimators=1000, reg_alpha=0.3)"
            ]
          },
          "metadata": {},
          "execution_count": 35
        }
      ],
      "source": [
        "from xgboost import XGBRegressor\n",
        "regressor = XGBRegressor(learning_rate=0.01,  \n",
        "                      colsample_bytree = 1,\n",
        "                      subsample = 1,\n",
        "                      n_estimators=1000, \n",
        "                      reg_alpha = 0.3,\n",
        "                      max_depth=10, \n",
        "                      gamma=0)\n",
        "regressor.fit(d,prix)"
      ]
    },
    {
      "cell_type": "code",
      "source": [
        "regressor.save_model('0002.model')"
      ],
      "metadata": {
        "id": "PDSSO12rqwbX"
      },
      "execution_count": null,
      "outputs": []
    },
    {
      "cell_type": "code",
      "source": [
        "pred_ayoub= regressor.predict(X_test)\n",
        "pred_ayoub= pd.Series(pred_ayoub)"
      ],
      "metadata": {
        "id": "aiFfUYUFiIxf"
      },
      "execution_count": 36,
      "outputs": []
    },
    {
      "cell_type": "code",
      "source": [
        "index= test_set['index']\n",
        "submission= pd.concat([index, pred_ayoub], axis=1)\n",
        "submission.columns =['index', 'price']"
      ],
      "metadata": {
        "id": "8baNFf3uVKxX"
      },
      "execution_count": 45,
      "outputs": []
    },
    {
      "cell_type": "code",
      "source": [
        "submission"
      ],
      "metadata": {
        "colab": {
          "base_uri": "https://localhost:8080/",
          "height": 424
        },
        "id": "lXAM40tGVTXw",
        "outputId": "84958baf-3e6f-4fb2-b46c-54d9f2a260f4"
      },
      "execution_count": 46,
      "outputs": [
        {
          "output_type": "execute_result",
          "data": {
            "text/plain": [
              "      index       price\n",
              "0         0  108.256447\n",
              "1         1  144.822144\n",
              "2         2   61.137863\n",
              "3         3   56.969791\n",
              "4         4  200.404892\n",
              "...     ...         ...\n",
              "6639   6639   79.526627\n",
              "6640   6640  238.000015\n",
              "6641   6641  148.874146\n",
              "6642   6642  177.521820\n",
              "6643   6643  157.126694\n",
              "\n",
              "[6644 rows x 2 columns]"
            ],
            "text/html": [
              "\n",
              "  <div id=\"df-628cc64a-4dc9-4036-bdf2-c6d35f81da14\">\n",
              "    <div class=\"colab-df-container\">\n",
              "      <div>\n",
              "<style scoped>\n",
              "    .dataframe tbody tr th:only-of-type {\n",
              "        vertical-align: middle;\n",
              "    }\n",
              "\n",
              "    .dataframe tbody tr th {\n",
              "        vertical-align: top;\n",
              "    }\n",
              "\n",
              "    .dataframe thead th {\n",
              "        text-align: right;\n",
              "    }\n",
              "</style>\n",
              "<table border=\"1\" class=\"dataframe\">\n",
              "  <thead>\n",
              "    <tr style=\"text-align: right;\">\n",
              "      <th></th>\n",
              "      <th>index</th>\n",
              "      <th>price</th>\n",
              "    </tr>\n",
              "  </thead>\n",
              "  <tbody>\n",
              "    <tr>\n",
              "      <th>0</th>\n",
              "      <td>0</td>\n",
              "      <td>108.256447</td>\n",
              "    </tr>\n",
              "    <tr>\n",
              "      <th>1</th>\n",
              "      <td>1</td>\n",
              "      <td>144.822144</td>\n",
              "    </tr>\n",
              "    <tr>\n",
              "      <th>2</th>\n",
              "      <td>2</td>\n",
              "      <td>61.137863</td>\n",
              "    </tr>\n",
              "    <tr>\n",
              "      <th>3</th>\n",
              "      <td>3</td>\n",
              "      <td>56.969791</td>\n",
              "    </tr>\n",
              "    <tr>\n",
              "      <th>4</th>\n",
              "      <td>4</td>\n",
              "      <td>200.404892</td>\n",
              "    </tr>\n",
              "    <tr>\n",
              "      <th>...</th>\n",
              "      <td>...</td>\n",
              "      <td>...</td>\n",
              "    </tr>\n",
              "    <tr>\n",
              "      <th>6639</th>\n",
              "      <td>6639</td>\n",
              "      <td>79.526627</td>\n",
              "    </tr>\n",
              "    <tr>\n",
              "      <th>6640</th>\n",
              "      <td>6640</td>\n",
              "      <td>238.000015</td>\n",
              "    </tr>\n",
              "    <tr>\n",
              "      <th>6641</th>\n",
              "      <td>6641</td>\n",
              "      <td>148.874146</td>\n",
              "    </tr>\n",
              "    <tr>\n",
              "      <th>6642</th>\n",
              "      <td>6642</td>\n",
              "      <td>177.521820</td>\n",
              "    </tr>\n",
              "    <tr>\n",
              "      <th>6643</th>\n",
              "      <td>6643</td>\n",
              "      <td>157.126694</td>\n",
              "    </tr>\n",
              "  </tbody>\n",
              "</table>\n",
              "<p>6644 rows × 2 columns</p>\n",
              "</div>\n",
              "      <button class=\"colab-df-convert\" onclick=\"convertToInteractive('df-628cc64a-4dc9-4036-bdf2-c6d35f81da14')\"\n",
              "              title=\"Convert this dataframe to an interactive table.\"\n",
              "              style=\"display:none;\">\n",
              "        \n",
              "  <svg xmlns=\"http://www.w3.org/2000/svg\" height=\"24px\"viewBox=\"0 0 24 24\"\n",
              "       width=\"24px\">\n",
              "    <path d=\"M0 0h24v24H0V0z\" fill=\"none\"/>\n",
              "    <path d=\"M18.56 5.44l.94 2.06.94-2.06 2.06-.94-2.06-.94-.94-2.06-.94 2.06-2.06.94zm-11 1L8.5 8.5l.94-2.06 2.06-.94-2.06-.94L8.5 2.5l-.94 2.06-2.06.94zm10 10l.94 2.06.94-2.06 2.06-.94-2.06-.94-.94-2.06-.94 2.06-2.06.94z\"/><path d=\"M17.41 7.96l-1.37-1.37c-.4-.4-.92-.59-1.43-.59-.52 0-1.04.2-1.43.59L10.3 9.45l-7.72 7.72c-.78.78-.78 2.05 0 2.83L4 21.41c.39.39.9.59 1.41.59.51 0 1.02-.2 1.41-.59l7.78-7.78 2.81-2.81c.8-.78.8-2.07 0-2.86zM5.41 20L4 18.59l7.72-7.72 1.47 1.35L5.41 20z\"/>\n",
              "  </svg>\n",
              "      </button>\n",
              "      \n",
              "  <style>\n",
              "    .colab-df-container {\n",
              "      display:flex;\n",
              "      flex-wrap:wrap;\n",
              "      gap: 12px;\n",
              "    }\n",
              "\n",
              "    .colab-df-convert {\n",
              "      background-color: #E8F0FE;\n",
              "      border: none;\n",
              "      border-radius: 50%;\n",
              "      cursor: pointer;\n",
              "      display: none;\n",
              "      fill: #1967D2;\n",
              "      height: 32px;\n",
              "      padding: 0 0 0 0;\n",
              "      width: 32px;\n",
              "    }\n",
              "\n",
              "    .colab-df-convert:hover {\n",
              "      background-color: #E2EBFA;\n",
              "      box-shadow: 0px 1px 2px rgba(60, 64, 67, 0.3), 0px 1px 3px 1px rgba(60, 64, 67, 0.15);\n",
              "      fill: #174EA6;\n",
              "    }\n",
              "\n",
              "    [theme=dark] .colab-df-convert {\n",
              "      background-color: #3B4455;\n",
              "      fill: #D2E3FC;\n",
              "    }\n",
              "\n",
              "    [theme=dark] .colab-df-convert:hover {\n",
              "      background-color: #434B5C;\n",
              "      box-shadow: 0px 1px 3px 1px rgba(0, 0, 0, 0.15);\n",
              "      filter: drop-shadow(0px 1px 2px rgba(0, 0, 0, 0.3));\n",
              "      fill: #FFFFFF;\n",
              "    }\n",
              "  </style>\n",
              "\n",
              "      <script>\n",
              "        const buttonEl =\n",
              "          document.querySelector('#df-628cc64a-4dc9-4036-bdf2-c6d35f81da14 button.colab-df-convert');\n",
              "        buttonEl.style.display =\n",
              "          google.colab.kernel.accessAllowed ? 'block' : 'none';\n",
              "\n",
              "        async function convertToInteractive(key) {\n",
              "          const element = document.querySelector('#df-628cc64a-4dc9-4036-bdf2-c6d35f81da14');\n",
              "          const dataTable =\n",
              "            await google.colab.kernel.invokeFunction('convertToInteractive',\n",
              "                                                     [key], {});\n",
              "          if (!dataTable) return;\n",
              "\n",
              "          const docLinkHtml = 'Like what you see? Visit the ' +\n",
              "            '<a target=\"_blank\" href=https://colab.research.google.com/notebooks/data_table.ipynb>data table notebook</a>'\n",
              "            + ' to learn more about interactive tables.';\n",
              "          element.innerHTML = '';\n",
              "          dataTable['output_type'] = 'display_data';\n",
              "          await google.colab.output.renderOutput(dataTable, element);\n",
              "          const docLink = document.createElement('div');\n",
              "          docLink.innerHTML = docLinkHtml;\n",
              "          element.appendChild(docLink);\n",
              "        }\n",
              "      </script>\n",
              "    </div>\n",
              "  </div>\n",
              "  "
            ]
          },
          "metadata": {},
          "execution_count": 46
        }
      ]
    },
    {
      "cell_type": "code",
      "source": [
        "submission.to_csv('ayoub_embed.csv', index=False)"
      ],
      "metadata": {
        "id": "n3CjMNoNvd1D"
      },
      "execution_count": 47,
      "outputs": []
    }
  ],
  "metadata": {
    "colab": {
      "provenance": []
    },
    "kernelspec": {
      "display_name": "Python 3 (ipykernel)",
      "language": "python",
      "name": "python3"
    },
    "language_info": {
      "codemirror_mode": {
        "name": "ipython",
        "version": 3
      },
      "file_extension": ".py",
      "mimetype": "text/x-python",
      "name": "python",
      "nbconvert_exporter": "python",
      "pygments_lexer": "ipython3",
      "version": "3.9.12"
    }
  },
  "nbformat": 4,
  "nbformat_minor": 0
}